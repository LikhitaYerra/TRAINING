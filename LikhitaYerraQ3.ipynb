{
 "cells": [
  {
   "cell_type": "code",
   "execution_count": 2,
   "id": "9d6c8fa1",
   "metadata": {},
   "outputs": [
    {
     "name": "stdout",
     "output_type": "stream",
     "text": [
      "1. Triangle\n",
      "2. Pentagon\n",
      "Enter the option: 1\n",
      "Enter side 1: 3\n",
      "Enter side 2: 4\n",
      "Enter side 3: 5\n",
      "Side 1 is 3\n",
      "Side 2 is 4\n",
      "Side 3 is 5\n"
     ]
    }
   ],
   "source": [
    "class Polygon:\n",
    "    def __init__(self, no_of_sides):\n",
    "        self.no_of_sides = no_of_sides\n",
    "        self.sides = []\n",
    "\n",
    "    def inputSides(self):\n",
    "        for i in range(self.no_of_sides):\n",
    "            side = int(input(f\"Enter side {i+1}: \"))\n",
    "            self.sides.append(side)\n",
    "\n",
    "    def dispSides(self):\n",
    "        for i in range(len(self.sides)):\n",
    "            print(f\"Side {i+1} is {self.sides[i]}\")\n",
    "\n",
    "\n",
    "class Triangle(Polygon):\n",
    "    def __init__(self):\n",
    "        super().__init__(3)\n",
    "\n",
    "\n",
    "class Pentagon(Polygon):\n",
    "    def __init__(self):\n",
    "        super().__init__(5)\n",
    "        \n",
    "print(\"1. Triangle\")\n",
    "print(\"2. Pentagon\")\n",
    "option = int(input(\"Enter the option: \"))\n",
    "\n",
    "\n",
    "if option == 1:\n",
    "    triangle = Triangle()\n",
    "    triangle.inputSides()\n",
    "    triangle.dispSides()\n",
    "elif option == 2:\n",
    "    pentagon = Pentagon()\n",
    "    pentagon.inputSides()\n",
    "    pentagon.dispSides()\n",
    "else:\n",
    "    print(\"Invalid option.\")\n"
   ]
  },
  {
   "cell_type": "code",
   "execution_count": null,
   "id": "5041b0c1",
   "metadata": {},
   "outputs": [],
   "source": []
  }
 ],
 "metadata": {
  "kernelspec": {
   "display_name": "Python 3 (ipykernel)",
   "language": "python",
   "name": "python3"
  },
  "language_info": {
   "codemirror_mode": {
    "name": "ipython",
    "version": 3
   },
   "file_extension": ".py",
   "mimetype": "text/x-python",
   "name": "python",
   "nbconvert_exporter": "python",
   "pygments_lexer": "ipython3",
   "version": "3.11.2"
  }
 },
 "nbformat": 4,
 "nbformat_minor": 5
}
