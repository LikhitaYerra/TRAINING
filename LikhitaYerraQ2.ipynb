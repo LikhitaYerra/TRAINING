{
 "cells": [
  {
   "cell_type": "code",
   "execution_count": 1,
   "id": "909fb596",
   "metadata": {},
   "outputs": [],
   "source": [
    "class Animal:\n",
    "    def __init__(self, name, age):\n",
    "        self.name = name\n",
    "        self.age = age\n",
    "\n",
    "    def get_description(self):\n",
    "        return f\"Name: {self.name}, Age: {self.age}\"\n",
    "\n",
    "\n",
    "class Mammal(Animal):\n",
    "    def __init__(self, name, age, fur_color):\n",
    "        super().__init__(name, age)\n",
    "        self.fur_color = fur_color\n",
    "\n",
    "    def get_description(self):\n",
    "        return f\"Name: {self.name}, Age: {self.age}, Fur Color: {self.fur_color}\"\n",
    "\n",
    "\n",
    "class Bird(Animal):\n",
    "    def __init__(self, name, age, wing_span):\n",
    "        super().__init__(name, age)\n",
    "        self.wing_span = wing_span\n",
    "\n",
    "    def get_description(self):\n",
    "        return f\"Name: {self.name}, Age: {self.age}, Wing Span: {self.wing_span}\"\n",
    "\n",
    "\n",
    "class Reptile(Animal):\n",
    "    def __init__(self, name, age, num_legs):\n",
    "        super().__init__(name, age)\n",
    "        self.num_legs = num_legs\n",
    "\n",
    "    def get_description(self):\n",
    "        return f\"Name: {self.name}, Age: {self.age}, Number of Legs: {self.num_legs}\"\n",
    "\n",
    "\n",
    "\n"
   ]
  },
  {
   "cell_type": "code",
   "execution_count": 2,
   "id": "05dc17df",
   "metadata": {},
   "outputs": [
    {
     "name": "stdout",
     "output_type": "stream",
     "text": [
      "Name: Lion, Age: 5, Fur Color: Brown\n",
      "Name: Eagle, Age: 3, Wing Span: 180\n",
      "Name: Snake, Age: 2, Number of Legs: 0\n"
     ]
    }
   ],
   "source": [
    "mammal = Mammal(\"Lion\", 5, \"Brown\")\n",
    "bird = Bird(\"Eagle\", 3, 180)\n",
    "reptile = Reptile(\"Snake\", 2, 0)\n",
    "\n",
    "print(mammal.get_description()) \n",
    "print(bird.get_description())  \n",
    "print(reptile.get_description())  "
   ]
  },
  {
   "cell_type": "code",
   "execution_count": null,
   "id": "b329c6d3",
   "metadata": {},
   "outputs": [],
   "source": []
  }
 ],
 "metadata": {
  "kernelspec": {
   "display_name": "Python 3 (ipykernel)",
   "language": "python",
   "name": "python3"
  },
  "language_info": {
   "codemirror_mode": {
    "name": "ipython",
    "version": 3
   },
   "file_extension": ".py",
   "mimetype": "text/x-python",
   "name": "python",
   "nbconvert_exporter": "python",
   "pygments_lexer": "ipython3",
   "version": "3.11.2"
  }
 },
 "nbformat": 4,
 "nbformat_minor": 5
}
