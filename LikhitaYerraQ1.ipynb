{
 "cells": [
  {
   "cell_type": "code",
   "execution_count": 2,
   "id": "af6305d7",
   "metadata": {},
   "outputs": [
    {
     "name": "stdout",
     "output_type": "stream",
     "text": [
      "Enter a string: constructor\n",
      "Enter a character to search: z\n",
      "Character not found in the string.\n"
     ]
    }
   ],
   "source": [
    "def search_character(string, character):\n",
    "    positions = []\n",
    "    for i in range(len(string)):\n",
    "        if string[i] == character:\n",
    "            positions.append(i+1)\n",
    "    \n",
    "    return positions\n",
    "\n",
    "string = input(\"Enter a string: \")\n",
    "character = input(\"Enter a character to search: \")\n",
    "\n",
    "result = search_character(string, character)\n",
    "\n",
    "\n",
    "if result:\n",
    "    for position in result:\n",
    "        print(position)\n",
    "else:\n",
    "    print(\"Character not found in the string.\")\n"
   ]
  },
  {
   "cell_type": "code",
   "execution_count": null,
   "id": "8d5bb792",
   "metadata": {},
   "outputs": [],
   "source": []
  },
  {
   "cell_type": "code",
   "execution_count": null,
   "id": "b5f26243",
   "metadata": {},
   "outputs": [],
   "source": []
  }
 ],
 "metadata": {
  "kernelspec": {
   "display_name": "Python 3 (ipykernel)",
   "language": "python",
   "name": "python3"
  },
  "language_info": {
   "codemirror_mode": {
    "name": "ipython",
    "version": 3
   },
   "file_extension": ".py",
   "mimetype": "text/x-python",
   "name": "python",
   "nbconvert_exporter": "python",
   "pygments_lexer": "ipython3",
   "version": "3.11.2"
  }
 },
 "nbformat": 4,
 "nbformat_minor": 5
}
